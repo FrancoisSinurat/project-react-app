{
  "nbformat": 4,
  "nbformat_minor": 0,
  "metadata": {
    "colab": {
      "provenance": []
    },
    "kernelspec": {
      "name": "python3",
      "display_name": "Python 3"
    },
    "language_info": {
      "name": "python"
    }
  },
  "cells": [
    {
      "cell_type": "code",
      "execution_count": 18,
      "metadata": {
        "id": "sP4-x0mu5wgY"
      },
      "outputs": [],
      "source": [
        "import pandas as pd\n",
        "import numpy as np\n",
        "import tensorflow as tf\n",
        "from sklearn.model_selection import train_test_split\n",
        "from sklearn.preprocessing import LabelEncoder\n",
        "from tensorflow.keras.models import Model\n",
        "from tensorflow.keras.layers import Input, Embedding, Flatten, Dense, Concatenate\n",
        "from tensorflow.keras.optimizers import Adam\n",
        "\n",
        "# Load datasets\n",
        "courses_df = pd.read_excel('dr01_courses_cleaned.xlsx')\n",
        "ratings_df = pd.read_csv('ratings.csv')\n",
        "ratings_df = ratings_df.rename(columns={'respondent_identifier': 'userId'})"
      ]
    },
    {
      "cell_type": "code",
      "source": [
        "# Ubah id jadi string\n",
        "ratings_df['course_id'] = ratings_df['course_id'].astype(str)\n",
        "\n",
        "# Preprocessing\n",
        "# Encode\n",
        "user_encoder = LabelEncoder()\n",
        "course_encoder = LabelEncoder()\n",
        "\n",
        "ratings_df['userId'] = user_encoder.fit_transform(ratings_df['userId'])\n",
        "ratings_df['course_id'] = course_encoder.fit_transform(ratings_df['course_id'])\n",
        "\n",
        "num_users = ratings_df['userId'].nunique()\n",
        "num_courses = ratings_df['course_id'].nunique()"
      ],
      "metadata": {
        "id": "dt6F9WqyaXNN"
      },
      "execution_count": 19,
      "outputs": []
    },
    {
      "cell_type": "code",
      "source": [
        "# Split data\n",
        "X = ratings_df[['userId', 'course_id']]\n",
        "y = ratings_df['rating']\n",
        "X_train, X_test, y_train, y_test = train_test_split(X, y, test_size=0.2, random_state=42)\n",
        "\n",
        "# Build model\n",
        "def build_model(num_users, num_courses, embedding_size=50):\n",
        "    user_input = Input(shape=(1,), name='user_input')\n",
        "    user_embedding = Embedding(input_dim=num_users, output_dim=embedding_size, name='user_embedding')(user_input)\n",
        "    user_vec = Flatten(name='flatten_users')(user_embedding)\n",
        "\n",
        "    course_input = Input(shape=(1,), name='course_input')\n",
        "    course_embedding = Embedding(input_dim=num_courses, output_dim=embedding_size, name='course_embedding')(course_input)\n",
        "    course_vec = Flatten(name='flatten_courses')(course_embedding)\n",
        "\n",
        "    concat = Concatenate()([user_vec, course_vec])\n",
        "\n",
        "    dense = Dense(128, activation='relu')(concat)\n",
        "    dense = Dense(64, activation='relu')(dense)\n",
        "    output = Dense(1)(dense)\n",
        "\n",
        "    model = Model([user_input, course_input], output)\n",
        "    model.compile(optimizer=Adam(learning_rate=0.001), loss='mean_squared_error')\n",
        "\n",
        "    return model\n",
        "\n",
        "model = build_model(num_users, num_courses)\n",
        "model.summary()"
      ],
      "metadata": {
        "colab": {
          "base_uri": "https://localhost:8080/"
        },
        "id": "tv9rk2pXsaT9",
        "outputId": "08cd8c6d-846c-4a93-84e6-3ebef541eaff"
      },
      "execution_count": 20,
      "outputs": [
        {
          "output_type": "stream",
          "name": "stdout",
          "text": [
            "Model: \"model_13\"\n",
            "__________________________________________________________________________________________________\n",
            " Layer (type)                Output Shape                 Param #   Connected to                  \n",
            "==================================================================================================\n",
            " user_input (InputLayer)     [(None, 1)]                  0         []                            \n",
            "                                                                                                  \n",
            " course_input (InputLayer)   [(None, 1)]                  0         []                            \n",
            "                                                                                                  \n",
            " user_embedding (Embedding)  (None, 1, 50)                6814250   ['user_input[0][0]']          \n",
            "                                                                                                  \n",
            " course_embedding (Embeddin  (None, 1, 50)                3400      ['course_input[0][0]']        \n",
            " g)                                                                                               \n",
            "                                                                                                  \n",
            " flatten_users (Flatten)     (None, 50)                   0         ['user_embedding[0][0]']      \n",
            "                                                                                                  \n",
            " flatten_courses (Flatten)   (None, 50)                   0         ['course_embedding[0][0]']    \n",
            "                                                                                                  \n",
            " concatenate_13 (Concatenat  (None, 100)                  0         ['flatten_users[0][0]',       \n",
            " e)                                                                  'flatten_courses[0][0]']     \n",
            "                                                                                                  \n",
            " dense_39 (Dense)            (None, 128)                  12928     ['concatenate_13[0][0]']      \n",
            "                                                                                                  \n",
            " dense_40 (Dense)            (None, 64)                   8256      ['dense_39[0][0]']            \n",
            "                                                                                                  \n",
            " dense_41 (Dense)            (None, 1)                    65        ['dense_40[0][0]']            \n",
            "                                                                                                  \n",
            "==================================================================================================\n",
            "Total params: 6838899 (26.09 MB)\n",
            "Trainable params: 6838899 (26.09 MB)\n",
            "Non-trainable params: 0 (0.00 Byte)\n",
            "__________________________________________________________________________________________________\n"
          ]
        }
      ]
    },
    {
      "cell_type": "code",
      "source": [
        "# Train model\n",
        "history = model.fit([X_train['userId'], X_train['course_id']], y_train, epochs=1, batch_size=32, validation_split=0.2)\n",
        "\n",
        "# Evaluate\n",
        "loss = model.evaluate([X_test['userId'], X_test['course_id']], y_test)\n",
        "print(f'Test Loss: {loss}')"
      ],
      "metadata": {
        "colab": {
          "base_uri": "https://localhost:8080/"
        },
        "id": "QsfN9gXCs3pX",
        "outputId": "374c7827-fd23-4da8-f2c2-f53ed4038518"
      },
      "execution_count": 21,
      "outputs": [
        {
          "output_type": "stream",
          "name": "stdout",
          "text": [
            "8851/8851 [==============================] - 906s 102ms/step - loss: 0.2402 - val_loss: 0.1333\n",
            "2766/2766 [==============================] - 4s 1ms/step - loss: 0.1332\n",
            "Test Loss: 0.1332286149263382\n"
          ]
        }
      ]
    },
    {
      "cell_type": "code",
      "source": [
        "# Prediksi rating\n",
        "def predict_rating(user_id, course_id):\n",
        "    if user_id not in user_encoder.classes_:\n",
        "        raise ValueError(f\"User ID {user_id} is not recognized.\")\n",
        "    if course_id not in course_encoder.classes_:\n",
        "        raise ValueError(f\"Course ID {course_id} is not recognized.\")\n",
        "\n",
        "    user_encoded = user_encoder.transform([user_id])[0]\n",
        "    course_encoded = course_encoder.transform([course_id])[0]\n",
        "    rating = model.predict([np.array([user_encoded]), np.array([course_encoded])])\n",
        "    return rating[0][0]\n",
        "\n",
        "# Handle user baru\n",
        "def handle_cold_start():\n",
        "    # Ensure ratings_df contains numeric ratings\n",
        "    ratings_df['rating'] = pd.to_numeric(ratings_df['rating'], errors='coerce')\n",
        "\n",
        "    # Group by course_id and calculate mean rating\n",
        "    average_ratings = ratings_df[['course_id', 'rating']].groupby('course_id').mean()\n",
        "\n",
        "    # Get top 10 courses by average rating\n",
        "    top_courses = average_ratings.sort_values(by='rating', ascending=False).head(10).index.tolist()\n",
        "    top_course_names = courses_df[courses_df['id'].astype(str).isin(course_encoder.inverse_transform(top_courses))]['name']\n",
        "\n",
        "    return top_course_names\n",
        "\n",
        "# Rekomen course untuk user\n",
        "def recommend_courses(user_id):\n",
        "\n",
        "    user_encoded = user_encoder.transform([user_id])[0]\n",
        "    all_course_ids = np.arange(num_courses)\n",
        "\n",
        "    user_course_pairs = np.array([[user_encoded, course_id] for course_id in all_course_ids])\n",
        "    predictions = model.predict([user_course_pairs[:, 0], user_course_pairs[:, 1]])\n",
        "    recommended_course_ids = [course_id for _, course_id in sorted(zip(predictions, all_course_ids), reverse=True)[:10]]\n",
        "\n",
        "    return courses_df[courses_df['id'].astype(str).isin(course_encoder.inverse_transform(recommended_course_ids))]['name']"
      ],
      "metadata": {
        "id": "KPuOuVBos5Tx"
      },
      "execution_count": 22,
      "outputs": []
    },
    {
      "cell_type": "code",
      "source": [
        "# Run\n",
        "user_id = '1455298'  # Ganti untuk coba user lain\n",
        "recommended_courses = recommend_courses(user_id)\n",
        "print(recommended_courses)"
      ],
      "metadata": {
        "colab": {
          "base_uri": "https://localhost:8080/"
        },
        "id": "8S_IbYn3tT5M",
        "outputId": "504b7a16-7e78-4ec1-e504-5b6576757670"
      },
      "execution_count": 23,
      "outputs": [
        {
          "output_type": "stream",
          "name": "stdout",
          "text": [
            "3/3 [==============================] - 0s 4ms/step\n",
            "25       Belajar Membuat Aplikasi Back-End untuk Pemula\n",
            "27                Belajar Fundamental Aplikasi Back-End\n",
            "29             Meniti Karier sebagai Software Developer\n",
            "30    Pengenalan ke Logika Pemrograman (Programming ...\n",
            "33                             Machine Learning Terapan\n",
            "34                       Menjadi Google Cloud Architect\n",
            "38                           Belajar Dasar-Dasar DevOps\n",
            "41        Belajar Fundamental Aplikasi Web dengan React\n",
            "Name: name, dtype: object\n"
          ]
        }
      ]
    }
  ]
}